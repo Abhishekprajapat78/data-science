{
 "cells": [
  {
   "cell_type": "code",
   "execution_count": 4,
   "id": "741907ad",
   "metadata": {},
   "outputs": [
    {
     "ename": "ModuleNotFoundError",
     "evalue": "No module named 'matplotlib'",
     "output_type": "error",
     "traceback": [
      "\u001b[31m---------------------------------------------------------------------------\u001b[39m",
      "\u001b[31mModuleNotFoundError\u001b[39m                       Traceback (most recent call last)",
      "\u001b[36mCell\u001b[39m\u001b[36m \u001b[39m\u001b[32mIn[4]\u001b[39m\u001b[32m, line 1\u001b[39m\n\u001b[32m----> \u001b[39m\u001b[32m1\u001b[39m \u001b[38;5;28;01mimport\u001b[39;00m\u001b[38;5;250m \u001b[39m\u001b[34;01mmatplotlib\u001b[39;00m\u001b[34;01m.\u001b[39;00m\u001b[34;01mpyplot\u001b[39;00m\u001b[38;5;250m \u001b[39m\u001b[38;5;28;01mas\u001b[39;00m\u001b[38;5;250m \u001b[39m\u001b[34;01mplt\u001b[39;00m\n\u001b[32m      2\u001b[39m \u001b[38;5;28;01mimport\u001b[39;00m\u001b[38;5;250m \u001b[39m\u001b[34;01mnumpy\u001b[39;00m\u001b[38;5;250m \u001b[39m\u001b[38;5;28;01mas\u001b[39;00m\u001b[38;5;250m \u001b[39m\u001b[34;01mnp\u001b[39;00m\n\u001b[32m      3\u001b[39m \u001b[38;5;66;03m##piechart -- percentage\u001b[39;00m\n",
      "\u001b[31mModuleNotFoundError\u001b[39m: No module named 'matplotlib'"
     ]
    }
   ],
   "source": [
    "import matplotlib.pyplot as plt\n",
    "import numpy as np\n",
    "##piechart -- percentage\n",
    "x = [\"mp\",\"up\",\"rj\",\"gj\"]\n",
    "y = [10,20,30,40]\n",
    "explodes = (4,0,0,0)\n",
    "plt.pie(y,labels = x,autopct=\"%1\")"
   ]
  },
  {
   "cell_type": "code",
   "execution_count": 5,
   "id": "cb94d107",
   "metadata": {},
   "outputs": [
    {
     "ename": "NameError",
     "evalue": "name 'np' is not defined",
     "output_type": "error",
     "traceback": [
      "\u001b[31m---------------------------------------------------------------------------\u001b[39m",
      "\u001b[31mNameError\u001b[39m                                 Traceback (most recent call last)",
      "\u001b[36mCell\u001b[39m\u001b[36m \u001b[39m\u001b[32mIn[5]\u001b[39m\u001b[32m, line 3\u001b[39m\n\u001b[32m      1\u001b[39m \u001b[38;5;66;03m##subplot \u001b[39;00m\n\u001b[32m----> \u001b[39m\u001b[32m3\u001b[39m x = \u001b[43mnp\u001b[49m.linspace(\u001b[32m0\u001b[39m,\u001b[32m10\u001b[39m,\u001b[32m100\u001b[39m)\n\u001b[32m      4\u001b[39m plt.figure(figsize=(\u001b[32m10\u001b[39m,\u001b[32m6\u001b[39m))\n\u001b[32m      5\u001b[39m plt.subplot(\u001b[32m2\u001b[39m,\u001b[32m2\u001b[39m,\u001b[32m1\u001b[39m) \u001b[38;5;66;03m##2 rows ,2 columns , 1st graph\u001b[39;00m\n",
      "\u001b[31mNameError\u001b[39m: name 'np' is not defined"
     ]
    }
   ],
   "source": [
    "##subplot \n",
    "\n",
    "x = np.linspace(0,10,100)\n",
    "plt.figure(figsize=(10,6))\n",
    "plt.subplot(2,2,1) ##2 rows ,2 columns , 1st graph\n",
    "plt.plot(x,np,sin(x))\n",
    "plt.title(\"sin\")\n",
    "plt.subplot(2,2,2) ##2 rows  ,2 columns  ,2nd graph\n",
    "plt.plot(x,np,cos(x))\n",
    "plt.title(\"cos\")\n",
    "plt.subplot(2,2,3) ##2 rows , 2 columns  ,3rd graph\n",
    "plt.plot(x,np,tan(x))\n",
    "plt.title(\"tan\")\n",
    "plt.subplot(2,2,4) ##2 rows , 2 columns  , 4 graph\n",
    "plt.plot(x,np,log(x))\n",
    "plt.title(\"log\")\n",
    "plt.tight_layout()\n",
    "plt.show()"
   ]
  },
  {
   "cell_type": "code",
   "execution_count": null,
   "id": "3553ac58",
   "metadata": {},
   "outputs": [],
   "source": []
  }
 ],
 "metadata": {
  "kernelspec": {
   "display_name": "Python 3",
   "language": "python",
   "name": "python3"
  },
  "language_info": {
   "codemirror_mode": {
    "name": "ipython",
    "version": 3
   },
   "file_extension": ".py",
   "mimetype": "text/x-python",
   "name": "python",
   "nbconvert_exporter": "python",
   "pygments_lexer": "ipython3",
   "version": "3.11.9"
  }
 },
 "nbformat": 4,
 "nbformat_minor": 5
}
