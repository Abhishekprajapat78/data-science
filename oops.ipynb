{
 "cells": [
  {
   "cell_type": "code",
   "execution_count": null,
   "id": "fcfe5648",
   "metadata": {},
   "outputs": [],
   "source": [
    "##class ,object, method\n",
    "##4 types of oops \n",
    "##inhertance --- single , multiple ,multilevel , hyperachical, hybride \n",
    "# polymorephism , encapulatio"
   ]
  },
  {
   "cell_type": "code",
   "execution_count": null,
   "id": "2062dfd5",
   "metadata": {},
   "outputs": [],
   "source": [
    "##class - blueprint of object\n",
    "##object - instance of class"
   ]
  },
  {
   "cell_type": "code",
   "execution_count": 30,
   "id": "85881a0b",
   "metadata": {},
   "outputs": [
    {
     "name": "stdout",
     "output_type": "stream",
     "text": [
      "30\n"
     ]
    }
   ],
   "source": [
    "class Car:\n",
    "    # Class variables\n",
    "    num1 = 10\n",
    "    num2 = 20\n",
    "    name = \"abhi\"\n",
    "    model = \"xyz\"\n",
    "\n",
    "    def add(self):\n",
    "        return self.num1 + self.num2  # Adds num1 and num2\n",
    "\n",
    "    def display(self):\n",
    "        return (self.name, self.model)  # Returns a tuple with name and model\n",
    "\n",
    "# Create an object of the class\n",
    "obj = Car()\n",
    "\n",
    "# Call the add method\n",
    "print(obj.add())       # Output: 30\n",
    "\n",
    "# Call the display method\n",
    "# print(obj.display())  # Output: ('abhi', 'xyz')\n"
   ]
  },
  {
   "cell_type": "code",
   "execution_count": 21,
   "id": "57ce5ddd",
   "metadata": {},
   "outputs": [
    {
     "data": {
      "text/plain": [
       "('lion', 10)"
      ]
     },
     "execution_count": 21,
     "metadata": {},
     "output_type": "execute_result"
    }
   ],
   "source": [
    "##init -- constructor -- initialize the variable\n",
    "class animal:\n",
    "    def __init__(self,name,age):\n",
    "        self.abhi = name\n",
    "        self.two = age\n",
    "\n",
    "    def display(self):\n",
    "        return self.abhi , self.two\n",
    "        \n",
    "obj = animal(\"lion\",10)\n",
    "obj.display()       "
   ]
  },
  {
   "cell_type": "code",
   "execution_count": 10,
   "id": "5b22ec8a",
   "metadata": {},
   "outputs": [
    {
     "name": "stdout",
     "output_type": "stream",
     "text": [
      "car\n",
      "bike\n"
     ]
    }
   ],
   "source": [
    "##inheritance -- single , multiple , multilevel, hyerarchical , hybrid\n",
    "#single inheritance\n",
    "class car:\n",
    "    def display(self):\n",
    "        return \"car\"\n",
    "class bike(car):\n",
    "    def show(self):\n",
    "        return \"bike\"\n",
    "    \n",
    "obj = bike()\n",
    "print(obj.display())\n",
    "print(obj.show())  "
   ]
  },
  {
   "cell_type": "code",
   "execution_count": 22,
   "id": "4f28a45a",
   "metadata": {},
   "outputs": [],
   "source": [
    "class person:\n",
    "    def __init__(self,name):\n",
    "     self.name = name\n",
    "    def show (self):\n",
    "       return self.name\n",
    "    \n",
    "class employes(person):\n",
    "   def __init__(self,name,salary):\n",
    "    super(). __init__(name)\n",
    "    self.salary = salary\n",
    "\n",
    "obj = employes(\"abc\",1000)\n",
    "obj.show()\n",
    "\n",
    "class job :\n",
    "  def __init__(self,salary):\n",
    "    self.salary = salary\n",
    "class employespersonjob(employes,job):\n",
    "  def __init__(self,name,salary):\n",
    "    employes.__init__(self,name,salary)\n",
    "    job.__init__(self,salary)"
   ]
  },
  {
   "cell_type": "code",
   "execution_count": null,
   "id": "c970e13e",
   "metadata": {},
   "outputs": [],
   "source": [
    "#multilevel -- A -- B --- C\n",
    "class person:\n",
    "    def __init__(self,name):\n",
    "     self.name = name\n",
    "    def show (self):\n",
    "       return self.name\n",
    "    \n",
    "class employes(person):\n",
    "   def __init__(self,name,salary):\n",
    "    super(). __init__(name)\n",
    "    self.salary = salary\n",
    "\n",
    "obj = employes(\"abc\",1000)\n",
    "obj.show()\n",
    "\n",
    "class job :\n",
    "  def __init__(self,salary):\n",
    "    self.salary = salary\n",
    "class employespersonjob(employes,job):\n",
    "  def __init__(self,name,salary):\n",
    "    employes.__init__(self,name,salary)\n",
    "    job.__init__(self,salary)"
   ]
  },
  {
   "cell_type": "code",
   "execution_count": null,
   "id": "ce2bf653",
   "metadata": {},
   "outputs": [],
   "source": [
    "class shape "
   ]
  }
 ],
 "metadata": {
  "kernelspec": {
   "display_name": ".venv",
   "language": "python",
   "name": "python3"
  },
  "language_info": {
   "codemirror_mode": {
    "name": "ipython",
    "version": 3
   },
   "file_extension": ".py",
   "mimetype": "text/x-python",
   "name": "python",
   "nbconvert_exporter": "python",
   "pygments_lexer": "ipython3",
   "version": "3.11.9"
  }
 },
 "nbformat": 4,
 "nbformat_minor": 5
}
