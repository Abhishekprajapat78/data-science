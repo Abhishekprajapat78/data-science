{
 "cells": [
  {
   "cell_type": "code",
   "execution_count": 2,
   "id": "7839de32",
   "metadata": {},
   "outputs": [
    {
     "name": "stdout",
     "output_type": "stream",
     "text": [
      "[1, 4, 9, 16, 25]\n"
     ]
    }
   ],
   "source": [
    "##map --- map(function,iterable)\n",
    "def sq(num):\n",
    "    return num*num\n",
    "lst = [1,2,3,4,5]\n",
    "result = map(sq,lst)\n",
    "print(list(result))\n"
   ]
  },
  {
   "cell_type": "code",
   "execution_count": 3,
   "id": "8bd6d73d",
   "metadata": {},
   "outputs": [
    {
     "name": "stdout",
     "output_type": "stream",
     "text": [
      "[2, 4]\n"
     ]
    }
   ],
   "source": [
    "##filter --- filter(function,iterable)\n",
    "lst = [1,2,3,4,5]\n",
    "result = filter(lambda num : num%2==0,lst)\n",
    "print(list(result))"
   ]
  },
  {
   "cell_type": "code",
   "execution_count": 8,
   "id": "ad01d84f",
   "metadata": {},
   "outputs": [
    {
     "name": "stdout",
     "output_type": "stream",
     "text": [
      "15\n"
     ]
    }
   ],
   "source": [
    "##reduce\n",
    "from functools import reduce\n",
    "lst = [1,2,3,4,5]\n",
    "result = reduce(lambda num1, num2 : num1+num2,lst)\n",
    "print(result)"
   ]
  },
  {
   "cell_type": "code",
   "execution_count": 12,
   "id": "b38c6591",
   "metadata": {},
   "outputs": [
    {
     "name": "stdout",
     "output_type": "stream",
     "text": [
      "[(15, 'mohan'), (16, 'rohan'), (17, 'harshit'), (18, 'abhishek'), (19, 'tanish')]\n"
     ]
    }
   ],
   "source": [
    "##enumerate\n",
    "lst = [\"mohan\",\"rohan\",\"harshit\",\"abhishek\",\"tanish\"]\n",
    "result = enumerate(lst,start=15)\n",
    "print(list(result))"
   ]
  },
  {
   "cell_type": "code",
   "execution_count": 18,
   "id": "7105fcd4",
   "metadata": {},
   "outputs": [
    {
     "name": "stdout",
     "output_type": "stream",
     "text": [
      "[('abhi', 1), ('kalu', 2), ('abhishek', 3), ('khushi', 4)]\n"
     ]
    }
   ],
   "source": [
    "##zip function --- it is usrd to combine two or more iterable\n",
    "lst1 = [\"abhi\",\"kalu\",\"abhishek\",\"khushi\"]\n",
    "lst2 = [1,2,3,4]\n",
    "result = zip(lst1,lst2)\n",
    "print (list(result))"
   ]
  },
  {
   "cell_type": "code",
   "execution_count": 19,
   "id": "378a0084",
   "metadata": {},
   "outputs": [
    {
     "name": "stdout",
     "output_type": "stream",
     "text": [
      "['abhi', 'kalu', 'abhishek', 'khushi']\n",
      "[1, 2, 3, 4]\n"
     ]
    }
   ],
   "source": [
    "zipped = [(\"abhi\",1),(\"kalu\",2),(\"abhishek\",3),(\"khushi\",4)]\n",
    "result ,number= zip(*zipped)\n",
    "print(list(result))\n",
    "print(list(number))"
   ]
  },
  {
   "cell_type": "code",
   "execution_count": null,
   "id": "f5aca02a",
   "metadata": {},
   "outputs": [],
   "source": []
  }
 ],
 "metadata": {
  "kernelspec": {
   "display_name": ".venv",
   "language": "python",
   "name": "python3"
  },
  "language_info": {
   "codemirror_mode": {
    "name": "ipython",
    "version": 3
   },
   "file_extension": ".py",
   "mimetype": "text/x-python",
   "name": "python",
   "nbconvert_exporter": "python",
   "pygments_lexer": "ipython3",
   "version": "3.11.9"
  }
 },
 "nbformat": 4,
 "nbformat_minor": 5
}
