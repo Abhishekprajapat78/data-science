{
 "cells": [
  {
   "cell_type": "code",
   "execution_count": null,
   "id": "b54795dd",
   "metadata": {},
   "outputs": [],
   "source": [
    "##sets -{}\n",
    "##unordered,unindexed,no dublicates"
   ]
  },
  {
   "cell_type": "code",
   "execution_count": 4,
   "id": "9bf98b9e",
   "metadata": {},
   "outputs": [
    {
     "name": "stdout",
     "output_type": "stream",
     "text": [
      "{True, 2, 3, 'hello'}\n",
      "<class 'set'>\n"
     ]
    }
   ],
   "source": [
    "st = {3,2,\"hello\",True,\"hello\"}\n",
    "print(st)\n",
    "print(type(st))"
   ]
  },
  {
   "cell_type": "code",
   "execution_count": null,
   "id": "860b6982",
   "metadata": {},
   "outputs": [
    {
     "data": {
      "text/plain": [
       "{True, 2, 3, 4, 5}"
      ]
     },
     "execution_count": 15,
     "metadata": {},
     "output_type": "execute_result"
    }
   ],
   "source": [
    "# st.add(\"abhi\")\n",
    "# st.update([1,2,3,4,5])\n",
    "# st.remove(\"hello\")\n",
    "# st.pop\n",
    "# st.discard(\"abhi\")\n",
    "\n",
    "st\n"
   ]
  },
  {
   "cell_type": "code",
   "execution_count": null,
   "id": "49a31b3b",
   "metadata": {},
   "outputs": [],
   "source": []
  }
 ],
 "metadata": {
  "kernelspec": {
   "display_name": ".venv",
   "language": "python",
   "name": "python3"
  },
  "language_info": {
   "codemirror_mode": {
    "name": "ipython",
    "version": 3
   },
   "file_extension": ".py",
   "mimetype": "text/x-python",
   "name": "python",
   "nbconvert_exporter": "python",
   "pygments_lexer": "ipython3",
   "version": "3.11.9"
  }
 },
 "nbformat": 4,
 "nbformat_minor": 5
}
