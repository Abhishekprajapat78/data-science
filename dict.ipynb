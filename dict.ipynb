{
 "cells": [
  {
   "cell_type": "code",
   "execution_count": null,
   "id": "26e2a2c8",
   "metadata": {},
   "outputs": [],
   "source": [
    "##dict -- key value pair\n",
    "##dict = ()\n",
    "##dict - ordered ,mutuable, and do not  allow duplication"
   ]
  },
  {
   "cell_type": "code",
   "execution_count": 7,
   "id": "2b335343",
   "metadata": {},
   "outputs": [
    {
     "name": "stdout",
     "output_type": "stream",
     "text": [
      "{'name': ['hello', 'world'], 'age': 30, 'hobby': 'coding'}\n",
      "<class 'dict'>\n"
     ]
    }
   ],
   "source": [
    "dt = {\n",
    "    \"name\" : [\"hello\",\"world\"],\n",
    "    \"age\" : 20,\n",
    "    \"hobby\" : \"coding\",\n",
    "    \"age\" : 30,\n",
    "}\n",
    "print(dt)\n",
    "print(type(dt))"
   ]
  },
  {
   "cell_type": "code",
   "execution_count": 9,
   "id": "08d62832",
   "metadata": {},
   "outputs": [
    {
     "data": {
      "text/plain": [
       "{'name': ['hello', 'world'], 'age': 30, 'hobby': 'basketball'}"
      ]
     },
     "execution_count": 9,
     "metadata": {},
     "output_type": "execute_result"
    }
   ],
   "source": [
    "dt[\"hobby\"] = \"basketball\"\n",
    "dt"
   ]
  },
  {
   "cell_type": "code",
   "execution_count": 21,
   "id": "93e09768",
   "metadata": {},
   "outputs": [
    {
     "data": {
      "text/plain": [
       "{'name': 'abhi', 'age': 20, 'hobby': 'cricket', 'class': '12th'}"
      ]
     },
     "execution_count": 21,
     "metadata": {},
     "output_type": "execute_result"
    }
   ],
   "source": [
    "dt = {\n",
    "    \"name\" : \"abhi\",\n",
    "    \"age\" : 20,\n",
    "    \"hobby\" : \"coding\"}\n",
    "# dt.get(\"name\")\n",
    "# ()dt.items\n",
    "# dt.keys()\n",
    "# dt.values()\n",
    "# dt.pop(\"name\")\n",
    "# dt.popitem()\n",
    "# dt\n",
    "dt.update({\"hobby\":\"cricket\",\"class\":\"12th\"})\n",
    "dt"
   ]
  },
  {
   "cell_type": "code",
   "execution_count": 24,
   "id": "d1d6666e",
   "metadata": {},
   "outputs": [
    {
     "name": "stdout",
     "output_type": "stream",
     "text": [
      "{'a': 1, 'b': 4}\n"
     ]
    }
   ],
   "source": [
    "dt = {\"a\":1,\"b\":4}\n",
    "value = dt.setdefault(\"b\",7)\n",
    "print(dt)"
   ]
  },
  {
   "cell_type": "code",
   "execution_count": 35,
   "id": "fbebf9c7",
   "metadata": {},
   "outputs": [
    {
     "name": "stdout",
     "output_type": "stream",
     "text": [
      "{'a': 10, 'b': 10, 'h': 10, 'i': 10}\n"
     ]
    }
   ],
   "source": [
    "#fromkeys\n",
    "dt = {}.fromkeys(\"abhi\",10)\n",
    "print(dt)"
   ]
  }
 ],
 "metadata": {
  "kernelspec": {
   "display_name": ".venv",
   "language": "python",
   "name": "python3"
  },
  "language_info": {
   "codemirror_mode": {
    "name": "ipython",
    "version": 3
   },
   "file_extension": ".py",
   "mimetype": "text/x-python",
   "name": "python",
   "nbconvert_exporter": "python",
   "pygments_lexer": "ipython3",
   "version": "3.11.9"
  }
 },
 "nbformat": 4,
 "nbformat_minor": 5
}
