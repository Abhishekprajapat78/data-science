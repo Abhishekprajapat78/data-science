{
 "cells": [
  {
   "cell_type": "code",
   "execution_count": null,
   "id": "3a942ae6",
   "metadata": {},
   "outputs": [],
   "source": [
    "##module -- important other python files into current file\n",
    "#module is a single python file(.py)\n",
    "\n",
    "#there are 3 types of modules\n",
    "#1. build.in-modules - os ,datetime,re,math\n",
    "#2. third party modules -- pandas,numpy\n",
    "#3. user define modules "
   ]
  },
  {
   "cell_type": "code",
   "execution_count": null,
   "id": "9984dd67",
   "metadata": {},
   "outputs": [],
   "source": [
    "#import os \n",
    "from os import reduce"
   ]
  },
  {
   "cell_type": "code",
   "execution_count": 6,
   "id": "16327e10",
   "metadata": {},
   "outputs": [
    {
     "name": "stdout",
     "output_type": "stream",
     "text": [
      "567\n"
     ]
    }
   ],
   "source": [
    "from test import hello\n",
    "print(hello(1,566))"
   ]
  },
  {
   "cell_type": "code",
   "execution_count": null,
   "id": "2129a4a6",
   "metadata": {},
   "outputs": [],
   "source": []
  }
 ],
 "metadata": {
  "kernelspec": {
   "display_name": ".venv",
   "language": "python",
   "name": "python3"
  },
  "language_info": {
   "codemirror_mode": {
    "name": "ipython",
    "version": 3
   },
   "file_extension": ".py",
   "mimetype": "text/x-python",
   "name": "python",
   "nbconvert_exporter": "python",
   "pygments_lexer": "ipython3",
   "version": "3.11.9"
  }
 },
 "nbformat": 4,
 "nbformat_minor": 5
}
