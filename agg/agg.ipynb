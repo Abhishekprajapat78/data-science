{
 "cells": [
  {
   "cell_type": "code",
   "execution_count": 1,
   "id": "4cbedb8e",
   "metadata": {},
   "outputs": [],
   "source": [
    "from sklearn.cluster import AgglomerativeClustering\n",
    "import matplotlib.pyplot as plt\n",
    "from scipy.cluster.hierarchy import linkage, dendrogram\n",
    "from sklearn.datasets import make_blobs"
   ]
  },
  {
   "cell_type": "code",
   "execution_count": 5,
   "id": "82ef85a2",
   "metadata": {},
   "outputs": [
    {
     "data": {
      "text/plain": [
       "array([[  1.03414197,  -3.7591512 ],\n",
       "       [  1.19843923,  -5.56926838],\n",
       "       [  1.41001929,  -4.17662638],\n",
       "       [  1.38592557,  -4.05912962],\n",
       "       [ -4.20630811,  -8.98590816],\n",
       "       [  1.2499561 ,  -4.10500648],\n",
       "       [ -4.90030803,  -7.18459783],\n",
       "       [ -4.99213264,  -7.81961681],\n",
       "       [ -4.65526942,  -7.13142459],\n",
       "       [  0.46324887,  -4.68347404],\n",
       "       [  1.36300144,  -4.93172452],\n",
       "       [ -4.91326239,  -8.71174294],\n",
       "       [ -4.63197598,  -6.25238491],\n",
       "       [  1.76278048,  -2.72114312],\n",
       "       [ -3.22284873,  -8.27030299],\n",
       "       [ -4.72219734,  -5.80333345],\n",
       "       [  0.86328653,  -4.95449531],\n",
       "       [  1.65323794,  -4.20905807],\n",
       "       [ -5.69314775,  -6.26994508],\n",
       "       [ -3.16675832,  -9.32232421],\n",
       "       [ -5.50761487,  -6.55418459],\n",
       "       [ -5.37522899,  -8.03258384],\n",
       "       [  0.90929858,  -3.02425974],\n",
       "       [  1.61212508,  -4.49509712],\n",
       "       [ -4.49985621,  -8.62019509],\n",
       "       [ -5.22361423,  -7.08530474],\n",
       "       [ -4.35543748,  -8.90463648],\n",
       "       [ -4.9910876 ,  -7.27135638],\n",
       "       [ -2.98503335,  -8.6843254 ],\n",
       "       [  1.04874997,  -3.62985351],\n",
       "       [ -6.19154198,  -6.05347763],\n",
       "       [ -5.76785891,  -6.51093539],\n",
       "       [  1.77629942,  -3.8859843 ],\n",
       "       [ -3.26942349,  -9.02920295],\n",
       "       [ -5.52865137,  -7.18465325],\n",
       "       [ -4.34343001,  -9.03694828],\n",
       "       [ -4.12329745, -10.04253052],\n",
       "       [ -5.7361051 ,  -6.90330187],\n",
       "       [ -3.83101264,  -8.93745912],\n",
       "       [ -4.81754567,  -8.31591982],\n",
       "       [  1.92817246,  -4.72393916],\n",
       "       [ -5.81626728,  -6.87482217],\n",
       "       [  1.59973737,  -4.08802991],\n",
       "       [ -4.42091423,  -9.24911449],\n",
       "       [ -5.4732032 ,  -9.06261528],\n",
       "       [  1.78252405,  -3.09592341],\n",
       "       [ -5.01901641,  -8.38827882],\n",
       "       [ -5.80489084,  -7.27521269],\n",
       "       [ -3.77417911,  -8.22844119],\n",
       "       [ -5.08909115,  -6.646304  ],\n",
       "       [ -4.97639922,  -6.34735821],\n",
       "       [  0.64863612,  -4.8334831 ],\n",
       "       [  1.55910342,  -4.42990733],\n",
       "       [ -5.9309503 ,  -5.97025764],\n",
       "       [ -4.85862902,  -8.6999169 ],\n",
       "       [  1.23776976,  -5.07849266],\n",
       "       [ -3.66688095,  -7.41013642],\n",
       "       [ -4.55614508,  -7.5375876 ],\n",
       "       [ -4.32486365, -10.22997475],\n",
       "       [ -5.97500191,  -7.07350948],\n",
       "       [ -5.66843073,  -6.67643182],\n",
       "       [ -3.96067077,  -8.7605227 ],\n",
       "       [ -4.95059816,  -8.82042332],\n",
       "       [  0.9663781 ,  -4.19953451],\n",
       "       [ -3.2144702 ,  -7.26098503],\n",
       "       [ -6.36366834,  -7.41517387],\n",
       "       [  1.01377359,  -4.17587999],\n",
       "       [ -5.82686694,  -6.7107021 ],\n",
       "       [ -5.09131848,  -7.11213717],\n",
       "       [  2.26809756,  -4.37024552],\n",
       "       [  0.5583632 ,  -3.54977736],\n",
       "       [  0.59253804,  -4.88970203],\n",
       "       [ -5.58076512,  -7.47850978],\n",
       "       [ -6.25456166,  -7.12420495],\n",
       "       [  0.83158464,  -4.30935442],\n",
       "       [ -4.221164  ,  -8.27580077],\n",
       "       [ -4.62657253,  -9.52265918],\n",
       "       [ -3.21643828,  -9.56873805],\n",
       "       [ -6.56550198,  -6.54556411],\n",
       "       [  2.51073676,  -4.08701135],\n",
       "       [  1.2170256 ,  -4.44704633],\n",
       "       [ -4.3693033 ,  -8.66836809],\n",
       "       [ -5.38345678,  -6.76535545],\n",
       "       [  1.27414831,  -4.00228639],\n",
       "       [ -5.10743525,  -8.86457816],\n",
       "       [ -4.08255416,  -8.30148532],\n",
       "       [ -3.60227814,  -8.38825078],\n",
       "       [  2.14057226,  -4.98446615],\n",
       "       [ -5.15963417,  -8.2169458 ],\n",
       "       [  1.61270058,  -3.87805468],\n",
       "       [ -5.93362574,  -7.65014022],\n",
       "       [  2.18592894,  -4.57486765],\n",
       "       [ -4.12463661,  -8.82529548],\n",
       "       [ -5.96921729,  -6.46640077],\n",
       "       [ -5.3938162 ,  -7.41371664],\n",
       "       [  2.2623038 ,  -4.24132134],\n",
       "       [ -4.07011417,  -9.52313112],\n",
       "       [ -2.97506554,  -8.97431876],\n",
       "       [ -5.52386107,  -7.46898091],\n",
       "       [  2.15672125,  -5.46248134]])"
      ]
     },
     "execution_count": 5,
     "metadata": {},
     "output_type": "execute_result"
    }
   ],
   "source": [
    "## see the database\n",
    "x"
   ]
  },
  {
   "cell_type": "code",
   "execution_count": 2,
   "id": "def8192c",
   "metadata": {},
   "outputs": [],
   "source": [
    "x , _ = make_blobs(n_samples=100, centers=3, cluster_std=0.60,)"
   ]
  },
  {
   "cell_type": "code",
   "execution_count": 3,
   "id": "a19ecc45",
   "metadata": {},
   "outputs": [],
   "source": [
    "model = AgglomerativeClustering(n_clusters=3, linkage='ward')\n",
    "labels = model.fit_predict(x)"
   ]
  },
  {
   "cell_type": "code",
   "execution_count": 4,
   "id": "c712fb85",
   "metadata": {},
   "outputs": [
    {
     "data": {
      "image/png": "[encoded data removed]",
      "text/plain": [
       "<Figure size 640x480 with 1 Axes>"
      ]
     },
     "metadata": {},
     "output_type": "display_data"
    }
   ],
   "source": [
    "linked = linkage(x, method='ward')\n",
    "plt.Figure(figsize=(10, 7))\n",
    "dendrogram(linked)\n",
    "plt.show()"
   ]
  },
  {
   "cell_type": "code",
   "execution_count": null,
   "id": "1f8f79ad",
   "metadata": {},
   "outputs": [],
   "source": []
  }
 ],
 "metadata": {
  "kernelspec": {
   "display_name": "Python 3",
   "language": "python",
   "name": "python3"
  },
  "language_info": {
   "codemirror_mode": {
    "name": "ipython",
    "version": 3
   },
   "file_extension": ".py",
   "mimetype": "text/x-python",
   "name": "python",
   "nbconvert_exporter": "python",
   "pygments_lexer": "ipython3",
   "version": "3.11.9"
  }
 },
 "nbformat": 4,
 "nbformat_minor": 5
}
