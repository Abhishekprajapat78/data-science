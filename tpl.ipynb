{
 "cells": [
  {
   "cell_type": "code",
   "execution_count": null,
   "id": "f0a20a24",
   "metadata": {},
   "outputs": [],
   "source": [
    "##tpl = ordered,immutable,allow,duplicates\n",
    "##tol = ()"
   ]
  },
  {
   "cell_type": "code",
   "execution_count": 8,
   "id": "67bbefa6",
   "metadata": {},
   "outputs": [
    {
     "data": {
      "text/plain": [
       "3"
      ]
     },
     "execution_count": 8,
     "metadata": {},
     "output_type": "execute_result"
    }
   ],
   "source": [
    "tpl = (\"red\",\"blue\",\"green\",\"black\",1,2,3)\n",
    "tpl.count(\"red\")\n",
    "tpl.index(\"black\")"
   ]
  }
 ],
 "metadata": {
  "kernelspec": {
   "display_name": ".venv",
   "language": "python",
   "name": "python3"
  },
  "language_info": {
   "codemirror_mode": {
    "name": "ipython",
    "version": 3
   },
   "file_extension": ".py",
   "mimetype": "text/x-python",
   "name": "python",
   "nbconvert_exporter": "python",
   "pygments_lexer": "ipython3",
   "version": "3.11.9"
  }
 },
 "nbformat": 4,
 "nbformat_minor": 5
}
